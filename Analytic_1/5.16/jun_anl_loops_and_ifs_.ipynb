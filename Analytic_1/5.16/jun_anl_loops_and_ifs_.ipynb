{
 "cells": [
  {
   "cell_type": "markdown",
   "metadata": {
    "colab_type": "text",
    "id": "X9wfb-pqPzYu"
   },
   "source": [
    "# Циклы и условия\n",
    "\n",
    "## Домашняя работа\n",
    "Эта домашняя работа должна быть решена **БЕЗ** использования готовых функций (если именно они \"решают\" задачу) и сторонних библиотек. Используйте циклы и условия."
   ]
  },
  {
   "cell_type": "markdown",
   "metadata": {
    "colab_type": "text",
    "id": "DMpu8uUoPzY0"
   },
   "source": [
    "## 1\n",
    "\n",
    "Напишите программу, которая будет запрашивать на вход числа (через запятую на одной строке) и выводить наибольшее значение из списка.\n",
    "<br><br>\n",
    "*Ограничение: нельзя пользоваться готовой функцией для нахождения максимума (например, `max()`), готовыми функциями и методами сортировки (например, `sort()`,`sorted()`).*"
   ]
  },
  {
   "cell_type": "code",
   "execution_count": 1,
   "metadata": {
    "colab": {},
    "colab_type": "code",
    "id": "dHs34-p-PzY3"
   },
   "outputs": [
    {
     "name": "stdout",
     "output_type": "stream",
     "text": [
      "5, 4, 3, 5, 10\n",
      "10\n"
     ]
    }
   ],
   "source": [
    "list_of_numbers = input().replace(' ', '').split(',')\n",
    "\n",
    "max_element = list_of_numbers[0]\n",
    "for i in list_of_numbers:\n",
    "    if int(i) > int(max_element):\n",
    "        max_element = i\n",
    "\n",
    "print(max_element)\n"
   ]
  },
  {
   "cell_type": "markdown",
   "metadata": {
    "colab_type": "text",
    "id": "sCF9Hd9rPzZD"
   },
   "source": [
    "### 2\n",
    "\n",
    "Напишите программу, которая будет запрашивать на вход числа (каждое с новой строки) до тех пор, пока не будет введен ноль (0). На выход должно выводиться второе по величине значение.\n",
    "<br><br>\n",
    "*Ограничение: нельзя пользоваться готовой функцией для нахождения максимума (например, `max()`), готовыми функциями и методами сортировки (например, `sort()`,`sorted()`).*"
   ]
  },
  {
   "cell_type": "code",
   "execution_count": 2,
   "metadata": {
    "colab": {},
    "colab_type": "code",
    "id": "yrJk-mEjPzZF"
   },
   "outputs": [
    {
     "name": "stdout",
     "output_type": "stream",
     "text": [
      "5\n",
      "1\n",
      "7\n",
      "9\n",
      "-5\n",
      "-10\n",
      "0\n",
      "7\n"
     ]
    }
   ],
   "source": [
    "#Если введён ноль, его надо добавлять в список? \n",
    "def my_sort(lst):\n",
    "    for i in range(len(lst)):\n",
    "        lowest_value_index = i\n",
    "        for j in range(i + 1, len(lst)):\n",
    "            if lst[j] < lst[lowest_value_index]:\n",
    "                lowest_value_index = j\n",
    "        lst[i], lst[lowest_value_index] = lst[lowest_value_index], lst[i]\n",
    "                                  \n",
    "list_of_numbers = []\n",
    "while(True):\n",
    "    list_of_numbers.append(int(input()))\n",
    "    if(list_of_numbers[-1] == 0):\n",
    "        break\n",
    "\n",
    "my_sort(list_of_numbers)\n",
    "print(list_of_numbers[-2])\n",
    "\n"
   ]
  },
  {
   "cell_type": "markdown",
   "metadata": {
    "colab_type": "text",
    "id": "fdJZMUtGPzZN"
   },
   "source": [
    "### 3\n",
    "\n",
    "Напишите программу, которая принимает на вход год, а на выход выдает количество дней в этом году."
   ]
  },
  {
   "cell_type": "code",
   "execution_count": 3,
   "metadata": {
    "colab": {},
    "colab_type": "code",
    "id": "Dk6PDx-jPzZP"
   },
   "outputs": [
    {
     "name": "stdout",
     "output_type": "stream",
     "text": [
      "1990\n",
      "365\n"
     ]
    }
   ],
   "source": [
    "year = int(input())\n",
    "\n",
    "if (year % 4 != 0 or (year % 100 == 0 and year % 400 != 0)):\n",
    "    print(365)\n",
    "else:\n",
    "    print(366)\n"
   ]
  },
  {
   "cell_type": "markdown",
   "metadata": {
    "colab_type": "text",
    "id": "wFGBh0dYPzZV"
   },
   "source": [
    "### 4\n",
    "\n",
    "Напишите программу, которая на вход получает координаты двух клеток шахматной доски и выводит соощение о том, являются ли эти клетки одного цвета."
   ]
  },
  {
   "cell_type": "code",
   "execution_count": 5,
   "metadata": {
    "colab": {},
    "colab_type": "code",
    "id": "k-8POcqGPzZW"
   },
   "outputs": [
    {
     "name": "stdout",
     "output_type": "stream",
     "text": [
      "2\n",
      "5\n",
      "8\n",
      "8\n",
      "NO\n"
     ]
    }
   ],
   "source": [
    "#В каком виде координаты? Одним инпутом, двумя или четырьмя?\n",
    "coords = (int(input()), int(input()), int(input()), int(input()))\n",
    "\n",
    "a = coords[0]\n",
    "b = coords[1]\n",
    "c = coords[2]\n",
    "d = coords[3]\n",
    "\n",
    "cell1 = bool((a%2) ^ (b%2))\n",
    "cell2 = bool((c%2) ^ (d%2))\n",
    "\n",
    "if (cell1==cell2):\n",
    "    print('YES')\n",
    "else:\n",
    "    print('NO')\n"
   ]
  },
  {
   "cell_type": "markdown",
   "metadata": {
    "colab_type": "text",
    "id": "O594rz0tPzZb"
   },
   "source": [
    "### 5\n",
    "\n",
    "Напишите программу, которая на вход получает число, а на выходе сообщает, простое это число или составное."
   ]
  },
  {
   "cell_type": "code",
   "execution_count": 17,
   "metadata": {
    "colab": {},
    "colab_type": "code",
    "id": "-Oy1AesyPzZd"
   },
   "outputs": [
    {
     "name": "stdout",
     "output_type": "stream",
     "text": [
      "13\n",
      "Prime\n"
     ]
    }
   ],
   "source": [
    "def is_prime(num):\n",
    "    for i in range(2,num):\n",
    "        if (num % i) == 0:\n",
    "            print('Not prime')\n",
    "            break\n",
    "    else:\n",
    "        print('Prime')\n",
    "\n",
    "is_prime(int(input()))\n",
    "\n"
   ]
  },
  {
   "cell_type": "markdown",
   "metadata": {
    "colab_type": "text",
    "id": "QzBAQaW8PzZg"
   },
   "source": [
    "### 6\n",
    "\n",
    "Напишите программу, которая на вход получает целое число больше 2 и выводит по нему его наименьший натуральный делитель, отличный от 1."
   ]
  },
  {
   "cell_type": "code",
   "execution_count": 31,
   "metadata": {
    "colab": {},
    "colab_type": "code",
    "id": "Z2QzgAYKPzZi"
   },
   "outputs": [
    {
     "name": "stdout",
     "output_type": "stream",
     "text": [
      "9\n",
      "3\n"
     ]
    }
   ],
   "source": [
    "def lowest_devider(num):\n",
    "    for i in range(2,num+1):\n",
    "        if (num % i) == 0:\n",
    "            print(i)\n",
    "            break\n",
    "\n",
    "lowest_devider(int(input()))\n",
    "\n",
    "\n"
   ]
  },
  {
   "cell_type": "markdown",
   "metadata": {
    "colab_type": "text",
    "id": "Mdg_IAfFPzZk"
   },
   "source": [
    "### 7\n",
    "\n",
    "Напишите программу, которая поможет составить план тренировок для подготовки к марафону. Она получает на вход число километров на планируемом марафоне, сколько пользователь планирует пробежать в первый день тренировок и на сколько процентов планирует увеличивать каждый день это расстояние. На выходе программа должна выдавать, сколько дней пользователю потребуется для того, чтобы подготовиться пробежать целевое количество километров.\n",
    "<br><br>\n",
    "*Ограничение: нельзя пользоваться функцией `ceil()` из модуля `math` и ее аналогами.*"
   ]
  },
  {
   "cell_type": "code",
   "execution_count": 40,
   "metadata": {
    "colab": {},
    "colab_type": "code",
    "id": "mXeF6AMWPzZl"
   },
   "outputs": [
    {
     "name": "stdout",
     "output_type": "stream",
     "text": [
      "10\n",
      "1\n",
      "10\n",
      "25\n"
     ]
    }
   ],
   "source": [
    "#в каком виде вход? один, два или три инпута?\n",
    "final_range = int(input())\n",
    "start_range = int(input())\n",
    "percent = int(input())\n",
    "\n",
    "bucket = start_range\n",
    "days = 0\n",
    "while(bucket < final_range):\n",
    "    bucket = bucket + bucket*percent/100\n",
    "    days += 1\n",
    "    \n",
    "print(days)\n",
    "\n"
   ]
  },
  {
   "cell_type": "markdown",
   "metadata": {
    "colab_type": "text",
    "id": "sxKoWpYKPzZo"
   },
   "source": [
    "### 8\n",
    "\n",
    "Напишите программу, которая на вход получает число n и считает по нему сумму 1²+2²+3²+...+n².\n",
    "<br><br>\n",
    "*Ограничение: нельзя пользоваться функцией `sum()` и ее аналогами.*"
   ]
  },
  {
   "cell_type": "code",
   "execution_count": 46,
   "metadata": {
    "colab": {},
    "colab_type": "code",
    "id": "RiPlWLm6PzZp"
   },
   "outputs": [
    {
     "name": "stdout",
     "output_type": "stream",
     "text": [
      "10\n",
      "385\n"
     ]
    }
   ],
   "source": [
    "n = int(input())\n",
    "\n",
    "bucket = 0\n",
    "for i in range(1,n+1):\n",
    "    bucket = bucket + i**2\n",
    "\n",
    "print(bucket)\n",
    "\n"
   ]
  },
  {
   "cell_type": "markdown",
   "metadata": {
    "colab_type": "text",
    "id": "aXzG4-wdPzZr"
   },
   "source": [
    "## 9\n",
    "\n",
    "Напишите программу, которая на вход получает число n и считает по нему сумму сумму 1! + 2! + 3! + ... + n!\n",
    "<br><br>\n",
    "*Ограничение: нельзя пользоваться готовой функцией `factorial()` из модуля `math`, функцией `sum()` и их аналогами.*"
   ]
  },
  {
   "cell_type": "code",
   "execution_count": 54,
   "metadata": {
    "colab": {},
    "colab_type": "code",
    "id": "KBEXUEDQPzZs"
   },
   "outputs": [
    {
     "name": "stdout",
     "output_type": "stream",
     "text": [
      "5\n",
      "153\n"
     ]
    }
   ],
   "source": [
    "def fact(num):\n",
    "    factorial = 1\n",
    "    for i in range(2, num+1):\n",
    "        factorial *= i\n",
    "    return factorial\n",
    "\n",
    "n = int(input())\n",
    "\n",
    "bucket = 0\n",
    "for i in range(1,n+1):\n",
    "    bucket = bucket + fact(i)\n",
    "\n",
    "print(bucket)\n",
    "\n"
   ]
  },
  {
   "cell_type": "markdown",
   "metadata": {
    "colab_type": "text",
    "id": "4nsOuiWVPzZu"
   },
   "source": [
    "### 10\n",
    "\n",
    "Напишите программу, которая получает на вход последовательность чисел (каждое число с новой строки до того момента, пока пользователь не введет 0) и считает количество четных элементов в последовательности."
   ]
  },
  {
   "cell_type": "code",
   "execution_count": 2,
   "metadata": {
    "colab": {},
    "colab_type": "code",
    "id": "xktF2cocPzZv"
   },
   "outputs": [
    {
     "name": "stdout",
     "output_type": "stream",
     "text": [
      "4\n",
      "5\n",
      "6\n",
      "1\n",
      "2\n",
      "9\n",
      "0\n",
      "4\n"
     ]
    }
   ],
   "source": [
    "#аналогично второму заданию. Ноль включать в последовательность?\n",
    "list_of_numbers = []\n",
    "while(True):\n",
    "    list_of_numbers.append(int(input()))\n",
    "    if(list_of_numbers[-1] == 0):\n",
    "        break\n",
    "\n",
    "n = 0\n",
    "for i in list_of_numbers:\n",
    "    if i%2 == 0:\n",
    "        n += 1\n",
    "    \n",
    "print(n)\n"
   ]
  },
  {
   "cell_type": "markdown",
   "metadata": {
    "colab_type": "text",
    "id": "hyC9QGXPPzZx"
   },
   "source": [
    "### 11\n",
    "\n",
    "Напишите программу, которая формирует список игроков женской команды по футболу. Программа должна записывать возраст и пол претендента. Возраст должен запрашиваться после пола и только в том случае, если пол претендента женский. Если пол претендента мужской, программа должна сообщать о том, что он не подходит. Возраст претенденток должен быть от 18 до 35 лет. Если кандидат удовлетворяет требованиям, должно появляться соответствующее сообщение."
   ]
  },
  {
   "cell_type": "code",
   "execution_count": 2,
   "metadata": {
    "colab": {},
    "colab_type": "code",
    "id": "qSDK-zQ4PzZx"
   },
   "outputs": [
    {
     "name": "stdout",
     "output_type": "stream",
     "text": [
      "Type sex of candidate: male\n",
      "Denied\n",
      "Type sex of candidate: male\n",
      "Denied\n",
      "Type sex of candidate: male\n",
      "Denied\n",
      "Type sex of candidate: male\n",
      "Denied\n",
      "Type sex of candidate: female\n",
      "Type age of candidate: 11\n",
      "Denied\n",
      "Type sex of candidate: female\n",
      "Type age of candidate: 11\n",
      "Denied\n",
      "Type sex of candidate: female\n",
      "Type age of candidate: 33\n",
      "Accept\n",
      "Type sex of candidate: female\n",
      "Type age of candidate: 33\n",
      "Accept\n",
      "Type sex of candidate: female\n",
      "Type age of candidate: 33\n",
      "Accept\n",
      "Type sex of candidate: female\n",
      "Type age of candidate: 33\n",
      "Accept\n",
      "Type sex of candidate: female\n",
      "Type age of candidate: 33\n",
      "Accept\n"
     ]
    }
   ],
   "source": [
    "#Формируем команду из 4 человек, чтоб удобнее было проверять. \n",
    "\n",
    "team = 0\n",
    "while(team <= 4):\n",
    "    candidate_sex = input('Type sex of candidate: ')\n",
    "    if (candidate_sex == 'female'):\n",
    "        candidate_age = input('Type age of candidate: ')\n",
    "        if (18 <= int(candidate_age) <= 35):\n",
    "            print('Accept')\n",
    "            team += 1\n",
    "        else:\n",
    "            print('Denied')\n",
    "    else:\n",
    "        print('Denied')\n",
    "        \n",
    "\n"
   ]
  },
  {
   "cell_type": "markdown",
   "metadata": {
    "colab_type": "text",
    "id": "B4JAB8AqPzZ0"
   },
   "source": [
    "### 12\n",
    "\n",
    "\n",
    "Напишите программу, которая на вход получает максимальную ширину ромба и рисует его. Гарантируется, что входное число всегда нечетное.\n",
    " \n",
    "Пример вывода для числа 5:\n",
    "```  \n",
    "  *\n",
    " ***\n",
    "*****\n",
    " ***\n",
    "  *```"
   ]
  },
  {
   "cell_type": "code",
   "execution_count": 10,
   "metadata": {
    "colab": {},
    "colab_type": "code",
    "id": "WVp7O75oPzZ0"
   },
   "outputs": [
    {
     "name": "stdout",
     "output_type": "stream",
     "text": [
      "7\n",
      "   *\n",
      "  ***\n",
      " *****\n",
      "*******\n",
      " *****\n",
      "  ***\n",
      "   *\n"
     ]
    }
   ],
   "source": [
    "size = int(input())\n",
    "mark = size//2\n",
    "\n",
    "#for i in range(size):\n",
    "#    print(abs((mark - i)) * ' ' + (size - abs((mark - i)) * 2) * '*')\n",
    "for i in range(size):\n",
    "    print(abs((mark - i)) * ' ' + (size - abs((mark - i)) * 2) * '*')"
   ]
  },
  {
   "cell_type": "markdown",
   "metadata": {
    "colab_type": "text",
    "id": "xrIXWj0yPzZ2"
   },
   "source": [
    "### 13\n",
    "\n",
    "Напишите программу, которая запрашивает у пользователя сторону квадрата и символ, а затем рисует этот символ по диагоналям квадрата. Гарантируется, что входное число всегда нечетное.\n",
    " \n",
    "Пример вывода для числа 5:\n",
    "```\n",
    " \n",
    "#   #\n",
    " # #\n",
    "  #  \n",
    " # #\n",
    "#   #\n",
    "```"
   ]
  },
  {
   "cell_type": "code",
   "execution_count": 3,
   "metadata": {
    "colab": {},
    "colab_type": "code",
    "id": "oUKNB9TaPzZ3",
    "outputId": "47421e19-6d45-4cef-9df8-0d89200499ca"
   },
   "outputs": [
    {
     "name": "stdout",
     "output_type": "stream",
     "text": [
      "7\n",
      "$\n",
      "$     $\n",
      " $   $ \n",
      "  $ $  \n",
      "   $\n",
      "  $ $  \n",
      " $   $ \n",
      "$     $\n"
     ]
    }
   ],
   "source": [
    "#Ввод одним инпутом или двумя?\n",
    "size = int(input())\n",
    "sign = input()\n",
    "\n",
    "for i in range(size):\n",
    "    if(i < (size//2)):\n",
    "        print(i*' ' + sign + (size-2-2*i)*' ' + sign + i*' ')\n",
    "    elif(i == (size//2)):\n",
    "        print(((size//2))*' ' + sign)\n",
    "    elif(i > (size//2)):\n",
    "        print((size-i-1)*' ' + sign + (2*i-size)*' ' + sign + (size-i-1)*' ')\n",
    "\n"
   ]
  },
  {
   "cell_type": "markdown",
   "metadata": {
    "colab_type": "text",
    "id": "3GaiPsFYPzZ_"
   },
   "source": [
    "### 14\n",
    "\n",
    "В корзине лежат шары. Если разложить их в кучи по 2, останется один. Если разложить в кучи по 3, останется один. Если разложить в кучи по 4, останется один. Если разложить в кучи по 5, останется один. Если разложить в кучи по 6, останется один. Если разложить в кучи по 7, не будет остатка. Нужно найти минимальное количество шаров, удовлетворяющее условию.  <br>"
   ]
  },
  {
   "cell_type": "code",
   "execution_count": 4,
   "metadata": {
    "colab": {
     "base_uri": "https://localhost:8080/",
     "height": 32
    },
    "colab_type": "code",
    "executionInfo": {
     "elapsed": 1380,
     "status": "ok",
     "timestamp": 1571844968537,
     "user": {
      "displayName": "Анастасия Рогачевская",
      "photoUrl": "https://lh3.googleusercontent.com/a-/AAuE7mB92snW1RMZTGvFBrPMpd_BzLIeP2XnbSZ3ZNVFUQ=s64",
      "userId": "07714489023974728369"
     },
     "user_tz": -180
    },
    "id": "V2msEhQkPzZ_",
    "outputId": "c36c996d-347b-430f-f53e-65e37eb23108"
   },
   "outputs": [
    {
     "name": "stdout",
     "output_type": "stream",
     "text": [
      "301\n"
     ]
    }
   ],
   "source": [
    "'''\n",
    "Я понял условие так:\n",
    "x%2=1, x%3=1, x%4=1, x%5=1, x%6=1, x%7=0\n",
    "найти минимальный x\n",
    "\n",
    "Решаем простым перебором\n",
    "'''\n",
    "x=0\n",
    "while(True):\n",
    "    if((x%2)==1 and (x%3)==1 and (x%4)==1 and (x%5)==1 and (x%6)==1 and (x%7)==0):\n",
    "        print(x)\n",
    "        break\n",
    "    x += 1\n",
    "\n"
   ]
  },
  {
   "cell_type": "markdown",
   "metadata": {
    "colab_type": "text",
    "id": "5pOjlON-PzaC"
   },
   "source": [
    "### 15\n",
    "\n",
    "Рабочие клеили обои на стены. Первую стену поклеили за M минут, а каждую следующую на 5 минут больше, чем предыдущую.\n",
    "Напишите программу, которая запрашивает сколько стен было в квартире под поклейку, а также время работы с первой стеной. Программа должна выводить, сколько **часов** рабочие потратили на поклейку обоев во всей квартире. Ответом должно быть целое число.\n",
    "<br><br>\n",
    "*Ограничение: нельзя пользоваться готовыми функциями `bool()`, `floor()` и их аналогами.*"
   ]
  },
  {
   "cell_type": "code",
   "execution_count": 1,
   "metadata": {
    "colab": {},
    "colab_type": "code",
    "id": "Pmu96rWGPzaD"
   },
   "outputs": [
    {
     "name": "stdout",
     "output_type": "stream",
     "text": [
      "5\n",
      "5\n",
      "75\n"
     ]
    }
   ],
   "source": [
    "#Опять непонятно, сколько инпутов должно быть\n",
    "walls = int(input())\n",
    "M = int(input())\n",
    "\n",
    "mins = M\n",
    "bucket = 0\n",
    "for i in range(walls):\n",
    "    bucket = bucket + mins\n",
    "    mins += 5\n",
    "    \n",
    "print(bucket)\n"
   ]
  },
  {
   "cell_type": "markdown",
   "metadata": {
    "colab_type": "text",
    "id": "63C6Za3CPzaF"
   },
   "source": [
    "### 16\n",
    "\n",
    "Напишите программу, которая убирает из списка повторяющиеся элементы. Программа должна запрашивать на вход слова, каждое с новой строки, пока пользователь не введет пустую строку. Затем должна выводить список без повторяющихся элементов. \n",
    "<br><br>\n",
    "*Ограничение: нельзя пользоваться готовой функцией `set()` и ее аналогами.*"
   ]
  },
  {
   "cell_type": "code",
   "execution_count": 17,
   "metadata": {
    "colab": {},
    "colab_type": "code",
    "id": "MQ-eDkbAPzaG"
   },
   "outputs": [
    {
     "name": "stdout",
     "output_type": "stream",
     "text": [
      "5\n",
      "5\n",
      "4\n",
      "4\n",
      "3\n",
      "1\n",
      "\n",
      "['5', '4', '3', '1']\n"
     ]
    }
   ],
   "source": [
    "user_list = []\n",
    "user_set = []\n",
    "\n",
    "while(True):\n",
    "    str = input()\n",
    "    if str:\n",
    "        user_list.append(str)\n",
    "    else:\n",
    "        break\n",
    "\n",
    "for i in user_list:\n",
    "    if i not in user_set:\n",
    "        user_set.append(i)\n",
    "        \n",
    "print(user_set)\n"
   ]
  },
  {
   "cell_type": "markdown",
   "metadata": {
    "colab_type": "text",
    "id": "jueSDORaPzaI"
   },
   "source": [
    "### 17\n",
    "\n",
    "Напишите программу, которая выводит число пар одинаковых элементов в списке. Программа должна запрашивать на вход слова, каждое с новой строки, пока пользователь не введет пустую строку. "
   ]
  },
  {
   "cell_type": "code",
   "execution_count": 28,
   "metadata": {
    "colab": {},
    "colab_type": "code",
    "id": "49tbEr3NPzaJ"
   },
   "outputs": [
    {
     "name": "stdout",
     "output_type": "stream",
     "text": [
      "2\n",
      "2\n",
      "2\n",
      "2\n",
      "\n",
      "6\n"
     ]
    }
   ],
   "source": [
    "'''\n",
    "тут не понятно, какие ограничения на себя накладывать. Например, если у нас три одинаковых элемента a, b и c, \n",
    "это считается за одну пару ab или за три пары ab, bc, ca? Я сделал второй вариант\n",
    "'''\n",
    "lst = []\n",
    "counter = 0\n",
    "\n",
    "while(True):\n",
    "    str = input()\n",
    "    if str:\n",
    "        lst.append(str)\n",
    "    else:\n",
    "        break\n",
    "\n",
    "for i in lst:\n",
    "    for j in lst:\n",
    "        if i == j:\n",
    "            counter += 1\n",
    "    counter -= 1\n",
    "            \n",
    "print(int(counter/2))"
   ]
  },
  {
   "cell_type": "markdown",
   "metadata": {
    "colab_type": "text",
    "id": "yVLcBrD-PzaN"
   },
   "source": [
    "### 18\n",
    "\n",
    "Будем считать, что кубик может иметь неограниченное количество граней (натуральное число). Напишите программу, которая запрашивает, сколько граней имеется у двух разных кубиков. Затем выводит все возможные комбинации результатов бросков двух таких кубиков. "
   ]
  },
  {
   "cell_type": "code",
   "execution_count": 20,
   "metadata": {},
   "outputs": [
    {
     "data": {
      "text/plain": [
       "'ggggg'"
      ]
     },
     "execution_count": 20,
     "metadata": {},
     "output_type": "execute_result"
    }
   ],
   "source": [
    "i : int\n",
    "j : float\n",
    "\n",
    "i = 5    \n",
    "j = 5\n",
    "'g'*j"
   ]
  },
  {
   "cell_type": "code",
   "execution_count": 31,
   "metadata": {
    "colab": {},
    "colab_type": "code",
    "id": "7I2va0KwPzaR"
   },
   "outputs": [
    {
     "name": "stdout",
     "output_type": "stream",
     "text": [
      "6\n",
      "6\n",
      "1 1\n",
      "1 2\n",
      "1 3\n",
      "1 4\n",
      "1 5\n",
      "1 6\n",
      "2 1\n",
      "2 2\n",
      "2 3\n",
      "2 4\n",
      "2 5\n",
      "2 6\n",
      "3 1\n",
      "3 2\n",
      "3 3\n",
      "3 4\n",
      "3 5\n",
      "3 6\n",
      "4 1\n",
      "4 2\n",
      "4 3\n",
      "4 4\n",
      "4 5\n",
      "4 6\n",
      "5 1\n",
      "5 2\n",
      "5 3\n",
      "5 4\n",
      "5 5\n",
      "5 6\n",
      "6 1\n",
      "6 2\n",
      "6 3\n",
      "6 4\n",
      "6 5\n",
      "6 6\n"
     ]
    }
   ],
   "source": [
    "coub1 = int(input())\n",
    "coub2 = int(input())\n",
    "\n",
    "for i in range(1, coub1+1):\n",
    "    for j in range(1, coub2+1):\n",
    "        print(i, j)"
   ]
  }
 ],
 "metadata": {
  "colab": {
   "name": "jun_anl_loops_and_ifs_СКРИПТ.ipynb",
   "provenance": []
  },
  "kernelspec": {
   "display_name": "Python 3",
   "language": "python",
   "name": "python3"
  },
  "language_info": {
   "codemirror_mode": {
    "name": "ipython",
    "version": 3
   },
   "file_extension": ".py",
   "mimetype": "text/x-python",
   "name": "python",
   "nbconvert_exporter": "python",
   "pygments_lexer": "ipython3",
   "version": "3.7.4"
  }
 },
 "nbformat": 4,
 "nbformat_minor": 1
}
