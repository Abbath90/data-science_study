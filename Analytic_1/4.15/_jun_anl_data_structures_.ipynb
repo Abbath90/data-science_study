{
 "cells": [
  {
   "cell_type": "markdown",
   "metadata": {
    "colab_type": "text",
    "id": "7lPyzNzeLIOj"
   },
   "source": [
    "# Базовые структуры данных\n",
    "\n",
    "\n",
    "\n",
    "## Домашнее задание \n",
    "\n",
    "### Описание домашнего задания и формат сдачи\n",
    "\n",
    "В домашнем задании необходимо решить предложенные задачи по программированию – вписать свой код в ячейки после условий задач вместо комментария `### YOUR CODE HERE ###` в файле *jun_anl_data_structures.ipynb* и сохранить изменения, используя опцию *Save and Checkpoint* из вкладки меню *File* или кнопку *Save and Checkpoint* на панели инструментов. Итоговый файл в формате `.ipynb` (файл Jupyter Notebook) необходимо загрузить в личный кабинет обучающей онлайн платформы Skillbox (https://go.skillbox.ru/) и отправить на проверку."
   ]
  },
  {
   "cell_type": "markdown",
   "metadata": {
    "colab_type": "text",
    "id": "awb1K2hlLIOl"
   },
   "source": [
    "**NB!** Во всех заданиях обязательно наличие выдачи."
   ]
  },
  {
   "cell_type": "markdown",
   "metadata": {
    "colab_type": "text",
    "id": "3ndIOSVeLIOm"
   },
   "source": [
    "## Индексация списка"
   ]
  },
  {
   "cell_type": "code",
   "execution_count": 12,
   "metadata": {
    "colab": {},
    "colab_type": "code",
    "id": "XSWqZnZ2LIOo"
   },
   "outputs": [],
   "source": [
    "L = [[[1, 2, 3, 4, 5, 6, 7, 8, 9, 10], [11, 12, 13, 14, 15, 16, 17, 18, 19, 20]], \n",
    "    [[21, 22, 23, 24, 25, 26, 27, 28, 29, 30], [31, 32, 33, 34, 35, 36, 37, 38, 39, 40]], \n",
    "    [[41, 42, 43, 44, 45], [46, [47, 48], 49, 50], [51, 52, 53, 54, 55], [56, 57, 58, 59, 60]], \n",
    "    [61, 62, 63, [64, 65, 66, 67, 68, 69, 70, 71], 72, 73, 74, [75, [76, 77, 78], 79], 80], \n",
    "    [81, 82, 83, 84, 85, 86, 87, 88, 89, 90, 91, 92, 93, 94, 95, 96, 97, 98, 99, 100]]"
   ]
  },
  {
   "cell_type": "markdown",
   "metadata": {
    "colab_type": "text",
    "id": "jwigC9WlLIOt"
   },
   "source": [
    "### 1.\n",
    "Из приведенного выше списка списков выведите с помощью индексов число `7`."
   ]
  },
  {
   "cell_type": "code",
   "execution_count": 13,
   "metadata": {
    "colab": {},
    "colab_type": "code",
    "id": "PDaSjPzRLIOu"
   },
   "outputs": [
    {
     "name": "stdout",
     "output_type": "stream",
     "text": [
      "7\n"
     ]
    }
   ],
   "source": [
    "print(L[0][0][6])\n"
   ]
  },
  {
   "cell_type": "markdown",
   "metadata": {
    "colab_type": "text",
    "id": "TF6eb9fYLIOw"
   },
   "source": [
    "### 2.\n",
    "Из приведенного выше списка списков выведите с помощью индексов число `49`."
   ]
  },
  {
   "cell_type": "code",
   "execution_count": 17,
   "metadata": {
    "colab": {},
    "colab_type": "code",
    "id": "l_oW37-qLIOx"
   },
   "outputs": [
    {
     "name": "stdout",
     "output_type": "stream",
     "text": [
      "49\n"
     ]
    }
   ],
   "source": [
    "print(L[2][1][2])\n",
    "\n"
   ]
  },
  {
   "cell_type": "markdown",
   "metadata": {
    "colab_type": "text",
    "id": "FBDB0JeBLIO1"
   },
   "source": [
    "### 3.\n",
    "Из приведенного выше списка списков выведите с помощью индексов число `78`."
   ]
  },
  {
   "cell_type": "code",
   "execution_count": 20,
   "metadata": {
    "colab": {},
    "colab_type": "code",
    "id": "tpM-jm4bLIO2"
   },
   "outputs": [
    {
     "name": "stdout",
     "output_type": "stream",
     "text": [
      "78\n"
     ]
    }
   ],
   "source": [
    "print(L[3][7][1][2])\n"
   ]
  },
  {
   "cell_type": "markdown",
   "metadata": {
    "colab_type": "text",
    "id": "gnaTfR3BLIO5"
   },
   "source": [
    "### 4.\n",
    "Из приведенного выше списка списков выведите с помощью индексов (используя **отрицательные значения**) число `99`."
   ]
  },
  {
   "cell_type": "code",
   "execution_count": 22,
   "metadata": {
    "colab": {},
    "colab_type": "code",
    "id": "sA0ImW8oLIO6"
   },
   "outputs": [
    {
     "name": "stdout",
     "output_type": "stream",
     "text": [
      "99\n"
     ]
    }
   ],
   "source": [
    "print(L[-1][-2])\n",
    "\n"
   ]
  },
  {
   "cell_type": "markdown",
   "metadata": {
    "colab_type": "text",
    "id": "07mV6-oeLIO-"
   },
   "source": [
    "### 5.\n",
    "Из приведенного выше списка списков сделайте **срез** с числом `74`. "
   ]
  },
  {
   "cell_type": "code",
   "execution_count": 67,
   "metadata": {
    "colab": {},
    "colab_type": "code",
    "id": "OM-zgJ15LIO-"
   },
   "outputs": [
    {
     "name": "stdout",
     "output_type": "stream",
     "text": [
      "[74]\n"
     ]
    }
   ],
   "source": [
    "print(L[2:4][1][6::3])\n",
    "\n"
   ]
  },
  {
   "cell_type": "markdown",
   "metadata": {
    "colab_type": "text",
    "id": "TE82rH0CLIPB"
   },
   "source": [
    "### 6.\n",
    "Из приведенного выше списка списков сделайте **срез** с числами `47, 48`. "
   ]
  },
  {
   "cell_type": "code",
   "execution_count": 79,
   "metadata": {
    "colab": {},
    "colab_type": "code",
    "id": "MKpqyOINLIPD"
   },
   "outputs": [
    {
     "name": "stdout",
     "output_type": "stream",
     "text": [
      "[[47, 48]]\n"
     ]
    }
   ],
   "source": [
    "print(L[2:3][0][1][1::3])\n",
    "\n"
   ]
  },
  {
   "cell_type": "markdown",
   "metadata": {
    "colab_type": "text",
    "id": "t6Fgb0AkLIPK"
   },
   "source": [
    "### 7.\n",
    "Из приведенного выше списка списков сделайте **срез** с числами `77, 78`. "
   ]
  },
  {
   "cell_type": "code",
   "execution_count": 94,
   "metadata": {
    "colab": {},
    "colab_type": "code",
    "id": "l1pGFe7uLIPM"
   },
   "outputs": [
    {
     "name": "stdout",
     "output_type": "stream",
     "text": [
      "[77, 78]\n"
     ]
    }
   ],
   "source": [
    "print(L[3:4][0][::7][1][1][1::])\n"
   ]
  },
  {
   "cell_type": "markdown",
   "metadata": {
    "colab_type": "text",
    "id": "RwOlYKGhLIPR"
   },
   "source": [
    "## Функция range()"
   ]
  },
  {
   "cell_type": "markdown",
   "metadata": {
    "colab_type": "text",
    "id": "s2K0_TThLIPR"
   },
   "source": [
    "### 8.\n",
    "С помощью функции `range` сгенерируйте следующую последовательность: <br>\n",
    "`[0, 1, 2, 3, 4]`"
   ]
  },
  {
   "cell_type": "code",
   "execution_count": 98,
   "metadata": {
    "colab": {},
    "colab_type": "code",
    "id": "vpuvqwqdLIPS"
   },
   "outputs": [
    {
     "name": "stdout",
     "output_type": "stream",
     "text": [
      "[0, 1, 2, 3, 4]\n"
     ]
    }
   ],
   "source": [
    "print(list(range(5)))\n",
    "\n"
   ]
  },
  {
   "cell_type": "markdown",
   "metadata": {
    "colab_type": "text",
    "id": "WyhA3ipeLIPU"
   },
   "source": [
    "### 9.\n",
    "С помощью функции `range` сгенерируйте следующую последовательность: <br>\n",
    "`[3, 4]`"
   ]
  },
  {
   "cell_type": "code",
   "execution_count": 100,
   "metadata": {
    "colab": {},
    "colab_type": "code",
    "id": "WHoyVxCeLIPV"
   },
   "outputs": [
    {
     "name": "stdout",
     "output_type": "stream",
     "text": [
      "[3, 4]\n"
     ]
    }
   ],
   "source": [
    "print(list(range(3, 5)))\n",
    "\n"
   ]
  },
  {
   "cell_type": "markdown",
   "metadata": {
    "colab_type": "text",
    "id": "Clfo7jhOLIPY"
   },
   "source": [
    "### 10.\n",
    "С помощью функции `range` сгенерируйте следующую последовательность: <br>\n",
    "`[4, 8, 12, 16]`"
   ]
  },
  {
   "cell_type": "code",
   "execution_count": 102,
   "metadata": {
    "colab": {},
    "colab_type": "code",
    "id": "WepJj6ZfLIPY"
   },
   "outputs": [
    {
     "name": "stdout",
     "output_type": "stream",
     "text": [
      "[4, 8, 12, 16]\n"
     ]
    }
   ],
   "source": [
    "print(list(range(4, 17, 4)))\n",
    "\n"
   ]
  },
  {
   "cell_type": "markdown",
   "metadata": {
    "colab_type": "text",
    "id": "U9glCsGCLIPb"
   },
   "source": [
    "### 11.\n",
    "С помощью функции `range` сгенерируйте следующую последовательность: <br>\n",
    "`[16, 12, 8, 4]`"
   ]
  },
  {
   "cell_type": "code",
   "execution_count": 103,
   "metadata": {
    "colab": {},
    "colab_type": "code",
    "id": "NDm-DmpTLIPc"
   },
   "outputs": [
    {
     "name": "stdout",
     "output_type": "stream",
     "text": [
      "[16, 12, 8, 4]\n"
     ]
    }
   ],
   "source": [
    "print(list(range(16, 3, -4)))\n",
    "\n"
   ]
  },
  {
   "cell_type": "markdown",
   "metadata": {
    "colab_type": "text",
    "id": "CHz6UIKyLIPi"
   },
   "source": [
    "### 12.\n",
    "С помощью функции `range` сгенерируйте следующую последовательность: <br>\n",
    "`[0, 5, 10]`"
   ]
  },
  {
   "cell_type": "code",
   "execution_count": 104,
   "metadata": {
    "colab": {},
    "colab_type": "code",
    "id": "9C06f5sTLIPj"
   },
   "outputs": [
    {
     "name": "stdout",
     "output_type": "stream",
     "text": [
      "[0, 5, 10]\n"
     ]
    }
   ],
   "source": [
    "print(list(range(0, 11, 5)))\n",
    "\n"
   ]
  },
  {
   "cell_type": "markdown",
   "metadata": {
    "colab_type": "text",
    "id": "ZZehpNQuLIPm"
   },
   "source": [
    "### 13.\n",
    "С помощью функции `range` сгенерируйте следующую последовательность: <br>\n",
    "`[10, 5, 0]`"
   ]
  },
  {
   "cell_type": "code",
   "execution_count": 105,
   "metadata": {
    "colab": {},
    "colab_type": "code",
    "id": "H4QmyUfZLIPm"
   },
   "outputs": [
    {
     "name": "stdout",
     "output_type": "stream",
     "text": [
      "[10, 5, 0]\n"
     ]
    }
   ],
   "source": [
    "print(list(range(10, -1, -5)))\n",
    "\n"
   ]
  },
  {
   "cell_type": "markdown",
   "metadata": {
    "colab_type": "text",
    "id": "kwWQ1al2LIPr"
   },
   "source": [
    "### 14.\n",
    "С помощью функции `range` сгенерируйте следующую последовательность: <br>\n",
    "`[-10, -9, -8, -7, -6, -5, -4, -3, -2, -1]`"
   ]
  },
  {
   "cell_type": "code",
   "execution_count": 106,
   "metadata": {
    "colab": {},
    "colab_type": "code",
    "id": "85HO3S_cLIPu"
   },
   "outputs": [
    {
     "name": "stdout",
     "output_type": "stream",
     "text": [
      "[-10, -9, -8, -7, -6, -5, -4, -3, -2, -1]\n"
     ]
    }
   ],
   "source": [
    "print(list(range(-10, 0)))\n",
    "\n",
    "\n"
   ]
  },
  {
   "cell_type": "markdown",
   "metadata": {
    "colab_type": "text",
    "id": "sbCO0FbLLIP3"
   },
   "source": [
    "### 15.\n",
    "С помощью функции `range` сгенерируйте следующую последовательность: <br>\n",
    "`[-10, -16, -22, -28, -34]`"
   ]
  },
  {
   "cell_type": "code",
   "execution_count": 107,
   "metadata": {
    "colab": {},
    "colab_type": "code",
    "id": "Frychu-HLIP4"
   },
   "outputs": [
    {
     "name": "stdout",
     "output_type": "stream",
     "text": [
      "[-10, -16, -22, -28, -34]\n"
     ]
    }
   ],
   "source": [
    "print(list(range(-10, -35, -6)))\n",
    "\n",
    "\n"
   ]
  },
  {
   "cell_type": "markdown",
   "metadata": {
    "colab_type": "text",
    "id": "1Gfu4kFqLIP-"
   },
   "source": [
    "## Операторы и типы данных\n",
    "\n",
    "Этот блок должен быть решен **БЕЗ** использования готовых функций и сторонних библиотек. Используйте операторы."
   ]
  },
  {
   "cell_type": "markdown",
   "metadata": {
    "colab_type": "text",
    "id": "qnWdcLseLIP_"
   },
   "source": [
    "### 16.\n",
    "Часы показывают время в формате h:mm:ss (количество часов (от 0 до 23), двузначное количество минут, двузначное количество секунд). Количество минут и секунд при необходимости дополняются до двузначного числа нулями.\n",
    "\n",
    "Программа должна запрашивать количество секунд S, которое прошло с начала суток, и выводить в формате h:mm:ss, какое время будут показывать часы. <br><br>\n",
    "\n",
    "*Формат ввода:* <br>\n",
    "3600<br><br>\n",
    "\n",
    "*Формат вывода:* <br>\n",
    "1:00:00"
   ]
  },
  {
   "cell_type": "code",
   "execution_count": 119,
   "metadata": {
    "colab": {},
    "colab_type": "code",
    "id": "UaM4-TFYLIP_"
   },
   "outputs": [
    {
     "name": "stdout",
     "output_type": "stream",
     "text": [
      "9999\n",
      "2:46:39\n"
     ]
    }
   ],
   "source": [
    "input_sec = int(input())  #input_sec < 86400, или надо придумывать что-то для случая, если прошло 24 часа и более?\n",
    "\n",
    "hour = input_sec // 3600\n",
    "min = (input_sec - hour*3600) // 60\n",
    "sec = (input_sec - hour*3600) - min*60\n",
    "\n",
    "hour_output = str(hour)\n",
    "min_output = str((100 + min))[1:3]\n",
    "sec_output = str((100 + sec))[1:3]\n",
    "\n",
    "print(hour_output + ':' + min_output + ':' + sec_output)\n"
   ]
  },
  {
   "cell_type": "markdown",
   "metadata": {
    "colab_type": "text",
    "id": "BnxMhHlDLIQB"
   },
   "source": [
    "### 17.\n",
    "Машина выезжает на нулевой километр МКАД и едет по часовой стрелке с постоянной скоростью V километров в час. На каком километре МКАД машина окажется через T часов? \n",
    "<br> Длина МКАД: 109 км. <br><br> \n",
    "\n",
    "*Формат ввода:* <br>\n",
    "60 <br>\n",
    "1\n",
    "<br><br>\n",
    "*Формат вывода:* <br>\n",
    "60"
   ]
  },
  {
   "cell_type": "code",
   "execution_count": 125,
   "metadata": {
    "colab": {},
    "colab_type": "code",
    "id": "66aeGuRbLIQC"
   },
   "outputs": [
    {
     "name": "stdout",
     "output_type": "stream",
     "text": [
      "60\n",
      "1\n",
      "60\n"
     ]
    }
   ],
   "source": [
    "V = int(input())\n",
    "t = int(input())\n",
    "\n",
    "l = V*t\n",
    "\n",
    "print(str(l - 109*(l//109)))\n"
   ]
  },
  {
   "cell_type": "markdown",
   "metadata": {
    "colab_type": "text",
    "id": "ZxMi6_58LIQG"
   },
   "source": [
    "### 18.\n",
    "Напишите программу, которая запрашивает целое пятизначное число и выводит сумму его цифр.\n",
    "\n",
    "*Формат ввода:* <br>\n",
    "11111\n",
    "<br><br>\n",
    "*Формат вывода:* <br>\n",
    "5"
   ]
  },
  {
   "cell_type": "code",
   "execution_count": 133,
   "metadata": {
    "colab": {},
    "colab_type": "code",
    "id": "wasIkbwELIQH"
   },
   "outputs": [
    {
     "name": "stdout",
     "output_type": "stream",
     "text": [
      "11111\n",
      "5\n"
     ]
    }
   ],
   "source": [
    "number = int(input())\n",
    "\n",
    "print(str(number%10 + number%100//10 + number%1000//100 + number%10000//1000 + number%100000//10000 + number%1000000//100000))\n"
   ]
  },
  {
   "cell_type": "markdown",
   "metadata": {
    "colab_type": "text",
    "id": "6q6JEgziLIQK"
   },
   "source": [
    "### 19.\n",
    "Напишите программу, которая запрашивает целое четырехзначное число и меняет местами его две первые и две последние цифры.\n",
    "\n",
    "*Формат ввода:* <br>\n",
    "5236 \n",
    "<br><br>\n",
    "*Формат вывода:* <br>\n",
    "3652"
   ]
  },
  {
   "cell_type": "code",
   "execution_count": 134,
   "metadata": {
    "colab": {},
    "colab_type": "code",
    "id": "tupFycemLIQK"
   },
   "outputs": [
    {
     "name": "stdout",
     "output_type": "stream",
     "text": [
      "5236\n",
      "3652\n"
     ]
    }
   ],
   "source": [
    "number = int(input())\n",
    "\n",
    "print(str(number%100) + str(number//100))\n",
    "\n"
   ]
  },
  {
   "cell_type": "markdown",
   "metadata": {
    "colab_type": "text",
    "id": "3NglY6CQLIQN"
   },
   "source": [
    "### 20.\n",
    "Напишите программу, которая на основании параметра D (сколько километров в день преодолевает машина), расчитывает сколько дней она затратит на путь длиной P километров.  <br><br>\n",
    "*Формат ввода:* <br>\n",
    "105 <br>\n",
    "120\n",
    "<br><br>\n",
    "*Формат вывода:* <br>\n",
    "2"
   ]
  },
  {
   "cell_type": "code",
   "execution_count": 143,
   "metadata": {
    "colab": {},
    "colab_type": "code",
    "id": "7sCggR--LIQN"
   },
   "outputs": [
    {
     "name": "stdout",
     "output_type": "stream",
     "text": [
      "10\n",
      "101\n",
      "11\n"
     ]
    }
   ],
   "source": [
    "D = int(input())\n",
    "P = int(input())\n",
    "\n",
    "print(P//D + int(bool(P%D)))"
   ]
  },
  {
   "cell_type": "markdown",
   "metadata": {
    "colab_type": "text",
    "id": "oWERt2BRLIQR"
   },
   "source": [
    "### 21.\n",
    "Напишите программу, которая считает, сколько рублей и копеек нужно заплатить за N авокадо, если один авокадо стоит R рублей и K копеек. <br><br>\n",
    "*Формат ввода:* <br>\n",
    "40 20 <br>\n",
    "5\n",
    "<br><br>\n",
    "*Формат вывода:* <br>\n",
    "201 руб. 00 коп."
   ]
  },
  {
   "cell_type": "code",
   "execution_count": 146,
   "metadata": {
    "colab": {},
    "colab_type": "code",
    "id": "Zvx5ybP7LIQU"
   },
   "outputs": [
    {
     "name": "stdout",
     "output_type": "stream",
     "text": [
      "40\n",
      "20\n",
      "5\n",
      "201 руб. 00 коп.\n"
     ]
    }
   ],
   "source": [
    "R = int(input())\n",
    "K = int(input())\n",
    "N = int(input())\n",
    "\n",
    "kop = N*(K + R*100)\n",
    "\n",
    "rub_output = str(kop//100)\n",
    "kop_output = str((kop - kop//100*100) + 100)[1:3]\n",
    "\n",
    "print(rub_output + ' руб. ' + kop_output + ' коп.')\n",
    "\n"
   ]
  },
  {
   "cell_type": "markdown",
   "metadata": {
    "colab_type": "text",
    "id": "Q0u91-MILIQX"
   },
   "source": [
    "### 22.\n",
    "Пусть организаторы мероприятия неправильно составили гугл-форму и просили людей указывать ФИО в неправильном порядке. Сначала спрашивали имя, потом отчество, затем фамилию. Напишите программу, которая будет переставлять ФИО в нужный порядок. <br> <br> \n",
    "\n",
    "*Формат ввода:* <br>\n",
    "Иван Иванович Иванов<br><br>\n",
    "*Формат вывода:* <br>\n",
    "Иванов Иван Иванович"
   ]
  },
  {
   "cell_type": "code",
   "execution_count": 147,
   "metadata": {
    "colab": {},
    "colab_type": "code",
    "id": "hrXguBL7LIQX"
   },
   "outputs": [
    {
     "name": "stdout",
     "output_type": "stream",
     "text": [
      "Иван\n",
      "Иванович\n",
      "Иванов\n",
      "Иванов Иван Иванович\n"
     ]
    }
   ],
   "source": [
    "name = input()\n",
    "mid_name = input()\n",
    "surname = input()\n",
    "# или имеется ввиду ввод одним инпутом? Тогда можно ли пользоваться методами строк и списков?\n",
    "\n",
    "print(surname, name, mid_name)\n"
   ]
  },
  {
   "cell_type": "markdown",
   "metadata": {
    "colab_type": "text",
    "id": "vwexBPelLIQb"
   },
   "source": [
    "## Cловари и списки"
   ]
  },
  {
   "cell_type": "markdown",
   "metadata": {
    "colab_type": "text",
    "id": "nIgc10tKLIQc"
   },
   "source": [
    "### 23.\n",
    "У вас есть список с заказом в ресторане. Напишите программу, которая меняет указанное по названию блюдо на другое. При этом новое блюдо в списке будет расположено на месте того, что было заменено.\n",
    "\n",
    "*Формат ввода:* <br>\n",
    "белое вино<br>\n",
    "красное вино <br><br>\n",
    "*Формат вывода:* <br>\n",
    "`['красное вино', 'салат Цезарь', 'паста Карбонара', 'чизкейк', 'шоколадный сорбет']`"
   ]
  },
  {
   "cell_type": "code",
   "execution_count": 149,
   "metadata": {
    "colab": {},
    "colab_type": "code",
    "id": "O0k3dslvLIQd"
   },
   "outputs": [],
   "source": [
    "order = ['белое вино', 'салат Цезарь', 'паста Карбонара', 'чизкейк', 'шоколадный сорбет']"
   ]
  },
  {
   "cell_type": "code",
   "execution_count": 150,
   "metadata": {
    "colab": {},
    "colab_type": "code",
    "id": "D9s6foo_LIQh"
   },
   "outputs": [
    {
     "name": "stdout",
     "output_type": "stream",
     "text": [
      "белое вино\n",
      "красное вино\n",
      "['красное вино', 'салат Цезарь', 'паста Карбонара', 'чизкейк', 'шоколадный сорбет']\n"
     ]
    }
   ],
   "source": [
    "old_dish = input()\n",
    "new_dish = input()\n",
    "\n",
    "order[order.index(old_dish)] = new_dish\n",
    "\n",
    "print(order)\n"
   ]
  },
  {
   "cell_type": "markdown",
   "metadata": {
    "colab_type": "text",
    "id": "GLx0EKUiLIQj"
   },
   "source": [
    "__________________\n",
    "Вам дан словарь c расписанием на неделю. "
   ]
  },
  {
   "cell_type": "code",
   "execution_count": 156,
   "metadata": {
    "colab": {},
    "colab_type": "code",
    "id": "fbPqWtv_LIQl"
   },
   "outputs": [],
   "source": [
    "diary = {'понедельник': {\n",
    "                          'утро': ['погулять с собакой'],\n",
    "                          'день': [],\n",
    "                          'вечер': ['погулять с собакой']\n",
    "                                      },\n",
    "        'вторник': {\n",
    "                          'утро': ['погулять с собакой'],\n",
    "                          'день': [],\n",
    "                          'вечер': ['погулять с собакой']\n",
    "                                      },\n",
    "        'среда': {\n",
    "                          'утро': ['погулять с собакой'],\n",
    "                          'день': [],\n",
    "                          'вечер': ['погулять с собакой']\n",
    "                                      },\n",
    "        'четверг': {\n",
    "                          'утро': ['погулять с собакой'],\n",
    "                          'день': [],\n",
    "                          'вечер': ['погулять с собакой']\n",
    "                                      },\n",
    "        'пятница': {\n",
    "                          'утро': ['заехать в шиномонтаж', 'помыть машину'],\n",
    "                          'день': [],\n",
    "                          'вечер': ['поход в театр',  'ужин в кафе']\n",
    "                                      },\n",
    "        'суббота': {\n",
    "                          'утро': [],\n",
    "                          'день': [],\n",
    "                          'вечер': []\n",
    "                                      },\n",
    "        'воскресенье': {\n",
    "                          'утро': [],\n",
    "                          'день': [],\n",
    "                          'вечер': []\n",
    "                                      }}"
   ]
  },
  {
   "cell_type": "markdown",
   "metadata": {
    "colab_type": "text",
    "id": "3FocVZkgLIQn"
   },
   "source": [
    "### 24.\n",
    "Удалите ключи `суббота` и `воскресенье`. Вместо них добавьте пару, где ключ это кортеж `суббота, воскресенье`, а значение – список с делом `посадить цветы на даче`. Можно ли сделать ключ `суббота, воскресенье` списком?"
   ]
  },
  {
   "cell_type": "code",
   "execution_count": 157,
   "metadata": {
    "colab": {},
    "colab_type": "code",
    "id": "lcw8GWcnLIQo"
   },
   "outputs": [],
   "source": [
    "diary.pop('суббота')\n",
    "diary.pop('воскресенье')\n",
    "\n",
    "diary.update({('суббота', 'воскресенье'): ['посадить цветы на даче'] })\n",
    "\n",
    "#Ключ не может быть списком, так как список - изменяемый объект, а ключом может быть только неизменяемый."
   ]
  },
  {
   "cell_type": "markdown",
   "metadata": {
    "colab_type": "text",
    "id": "vVhNCrtLLIQs"
   },
   "source": [
    "### 25.\n",
    "Добавьте в список дел во вторник утром `поход к зубному`."
   ]
  },
  {
   "cell_type": "code",
   "execution_count": 173,
   "metadata": {
    "colab": {},
    "colab_type": "code",
    "id": "R4BiwaWlLIQu"
   },
   "outputs": [],
   "source": [
    "#diary.update()\n",
    "diary.get('вторник')['утро'].append('поход к зубному')\n",
    "\n"
   ]
  },
  {
   "cell_type": "markdown",
   "metadata": {
    "colab_type": "text",
    "id": "BPQ5R-PkLIQ2"
   },
   "source": [
    "### 26.\n",
    "Замените `поход в театр` на `поход в кино` в списке дел в пятницу вечером."
   ]
  },
  {
   "cell_type": "code",
   "execution_count": 177,
   "metadata": {
    "colab": {},
    "colab_type": "code",
    "id": "nhqzOrZILIQ5"
   },
   "outputs": [],
   "source": [
    "diary.get('пятница')['вечер'][0] = 'поход в кино'\n",
    "\n"
   ]
  },
  {
   "cell_type": "markdown",
   "metadata": {
    "colab_type": "text",
    "id": "HCE0aq_BLIQ7"
   },
   "source": [
    "### 27.\n",
    "Ваш друг вернется из отпуска на один день раньше, поэтому он заберет свою собаку в среду, а не в четверг. Удалите дело `погулять с собакой` из соответствующих списков."
   ]
  },
  {
   "cell_type": "code",
   "execution_count": 180,
   "metadata": {
    "colab": {},
    "colab_type": "code",
    "id": "WPnIXdTVLIQ7"
   },
   "outputs": [],
   "source": [
    "diary.get('четверг')['утро'].clear()\n",
    "diary.get('четверг')['вечер'].clear()\n",
    "\n"
   ]
  },
  {
   "cell_type": "markdown",
   "metadata": {
    "colab_type": "text",
    "id": "A80KVUrZLIQ9"
   },
   "source": [
    "### 28.\n",
    "Выведите второе дело из списка дел, которые вам нужно сделать в пятницу утром."
   ]
  },
  {
   "cell_type": "code",
   "execution_count": 183,
   "metadata": {
    "colab": {},
    "colab_type": "code",
    "id": "ofqEBNuZLIQ-"
   },
   "outputs": [
    {
     "data": {
      "text/plain": [
       "'помыть машину'"
      ]
     },
     "execution_count": 183,
     "metadata": {},
     "output_type": "execute_result"
    }
   ],
   "source": [
    "diary.get('пятница')['утро'][1]\n"
   ]
  }
 ],
 "metadata": {
  "colab": {
   "collapsed_sections": [
    "t6Fgb0AkLIPK",
    "s2K0_TThLIPR",
    "WyhA3ipeLIPU",
    "Clfo7jhOLIPY",
    "U9glCsGCLIPb",
    "CHz6UIKyLIPi",
    "ZZehpNQuLIPm",
    "kwWQ1al2LIPr",
    "qnWdcLseLIP_",
    "BnxMhHlDLIQB",
    "ZxMi6_58LIQG",
    "6q6JEgziLIQK",
    "3NglY6CQLIQN",
    "oWERt2BRLIQR",
    "Q0u91-MILIQX",
    "nIgc10tKLIQc",
    "3FocVZkgLIQn",
    "vVhNCrtLLIQs",
    "BPQ5R-PkLIQ2",
    "HCE0aq_BLIQ7"
   ],
   "name": "jun_anl_data_structures.ipynb",
   "provenance": []
  },
  "kernelspec": {
   "display_name": "Python 3",
   "language": "python",
   "name": "python3"
  },
  "language_info": {
   "codemirror_mode": {
    "name": "ipython",
    "version": 3
   },
   "file_extension": ".py",
   "mimetype": "text/x-python",
   "name": "python",
   "nbconvert_exporter": "python",
   "pygments_lexer": "ipython3",
   "version": "3.7.4"
  }
 },
 "nbformat": 4,
 "nbformat_minor": 1
}
