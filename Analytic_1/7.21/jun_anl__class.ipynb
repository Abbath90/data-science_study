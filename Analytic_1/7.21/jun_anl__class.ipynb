{
 "cells": [
  {
   "cell_type": "markdown",
   "metadata": {},
   "source": [
    "# Классы\n",
    "## Домашнее задание"
   ]
  },
  {
   "cell_type": "markdown",
   "metadata": {},
   "source": [
    "### Вопросы по лекциям\n",
    "\n",
    "#### 1.\n",
    "\n",
    "Напишите название функции, которая является конструктором класса."
   ]
  },
  {
   "cell_type": "markdown",
   "metadata": {},
   "source": [
    "**Ответ:**   \n",
    "\\__init__()"
   ]
  },
  {
   "cell_type": "markdown",
   "metadata": {},
   "source": [
    "#### 2.\n",
    "\n",
    "На что указывает переменная `self`?"
   ]
  },
  {
   "cell_type": "markdown",
   "metadata": {},
   "source": [
    "**Ответ:** на экземпляр класса"
   ]
  },
  {
   "cell_type": "markdown",
   "metadata": {},
   "source": [
    "#### 3.\n",
    "С помощью какой функции можно проверить, что некая строка является именем одного из атрибутов объекта?"
   ]
  },
  {
   "cell_type": "markdown",
   "metadata": {},
   "source": [
    "**Ответ:** hasattr()"
   ]
  },
  {
   "cell_type": "markdown",
   "metadata": {},
   "source": [
    "#### 4.\n",
    "Когда вызывается метод `__del__`? (относительно события удаления объекта)"
   ]
  },
  {
   "cell_type": "markdown",
   "metadata": {},
   "source": [
    "**Ответ:**  Перед удалением объекта"
   ]
  },
  {
   "cell_type": "markdown",
   "metadata": {},
   "source": [
    "#### 5.\n",
    "Верно ли, что атрибут класса перекрывает атрибут объекта?"
   ]
  },
  {
   "cell_type": "markdown",
   "metadata": {},
   "source": [
    "**Ответ:** Наоборот"
   ]
  },
  {
   "cell_type": "markdown",
   "metadata": {},
   "source": [
    "#### 6.\n",
    "Можно ли атрибуты базового класса вызывать в дочернем классе? Если да, то напишите, нет ли исклчений?"
   ]
  },
  {
   "cell_type": "markdown",
   "metadata": {},
   "source": [
    "**Ответ:**  Можно, кроме атрибутов начинающихся на __"
   ]
  },
  {
   "cell_type": "markdown",
   "metadata": {},
   "source": [
    "#### 7.\n",
    "Объясните своими словами для чего нужен метод `super`."
   ]
  },
  {
   "cell_type": "markdown",
   "metadata": {},
   "source": [
    "**Ответ:** Для обращения к методам базового класса из дочернего класса"
   ]
  },
  {
   "cell_type": "markdown",
   "metadata": {},
   "source": [
    "### Практика\n",
    "\n",
    "1. Напишите класс `Fraction` для работы с дробями. Пусть дробь в нашем классе предстает в виде `числитель/знаменатель`. Дробное число должно создаваться по запросу `Fraction(a, b)`, где `a` – это числитель, а `b` – знаменатель дроби. \n",
    "2. Добавьте возможность сложения (сложения через оператор сложения) для дроби. Предполагается, что операция сложения может проводиться как только между дробями, так и между дробью и целым числом. Результат оперции должен быть представлен в виде дроби.\n",
    "3. Добавьте возможность взятия раздости (вычитания через оператор вычитания) для дробей. Предполагается, что операция вычитания может проводиться как только для двух дробей, так и для дроби и целого числа. Результат оперции должен быть представлен в виде дроби.\n",
    "4. Добавьте возможность умножения (умножения через оператор умножения) для дробей. Предполагается, что операция умножения может проводиться как только для двух дробей, так и для дроби и целого числа. Результат оперции должен быть представлен в виде дроби.\n",
    "5. Добавьте возможность приведения дроби к целому числу через стандартную функцию `int()`.\n",
    "6. Добавьте возможность приведения дроби к числу с плавающей точкой через стандартную функцию `float()`.\n",
    "7. Создайте дочерний класс `OperationsOnFraction` и добавьте туда собственные методы `getint` и `getfloat`, которые будут возвращять целую часть дроби и представление дроби в виде числа с плавающей точкой соответственно. \n",
    " "
   ]
  },
  {
   "cell_type": "code",
   "execution_count": 74,
   "metadata": {},
   "outputs": [],
   "source": [
    "class Fraction:\n",
    "    def __init__(self, a, b):\n",
    "        self.a = a\n",
    "        self.b = b\n",
    "    \n",
    "    def __str__(self):\n",
    "        return '{}/{}'.format(self.a, self.b)\n",
    "    \n",
    "    def cast_to_fraction(self, other):\n",
    "        numerator_1 = self.a\n",
    "        denominator_1 = self.b\n",
    "        if isinstance(other, int):\n",
    "            numerator_2 = other\n",
    "            denominator_2 = 1\n",
    "        else:\n",
    "            numerator_2 = other.a\n",
    "            denominator_2 = other.b\n",
    "            \n",
    "        return([numerator_1, numerator_2, denominator_1, denominator_2])\n",
    "\n",
    "    #пункты задания с 2 по 4 не предполагают ввод в виде int + Fraction, только Fraction + Fraction или Fraction + int\n",
    "    \n",
    "    def __add__(self, other):\n",
    "        numerator_1,numerator_2, denominator_1, denominator_2 = Fraction.cast_to_fraction(self, other)\n",
    "        denominator_output = denominator_1*denominator_2\n",
    "        numerator_output = numerator_1*denominator_2 + numerator_2*denominator_1\n",
    "        \n",
    "        return '{}/{}'.format(numerator_output, denominator_output)\n",
    "\n",
    "    def __sub__(self, other):\n",
    "        numerator_1,numerator_2, denominator_1, denominator_2 = Fraction.cast_to_fraction(self, other)\n",
    "        denominator_output = denominator_1*denominator_2\n",
    "        numerator_output = numerator_1*denominator_2 - numerator_2*denominator_1\n",
    "        \n",
    "        return '{}/{}'.format(numerator_output, denominator_output)\n",
    "    \n",
    "    def __mul__(self, other):\n",
    "        numerator_1,numerator_2, denominator_1, denominator_2 = Fraction.cast_to_fraction(self, other)\n",
    "        denominator_output = denominator_1*denominator_2\n",
    "        numerator_output = numerator_1*numerator_2\n",
    "        \n",
    "        return '{}/{}'.format(numerator_output, denominator_output)\n",
    "    \n",
    "    def __truediv__(self, other):\n",
    "        numerator_1,numerator_2, denominator_1, denominator_2 = Fraction.cast_to_fraction(self, other)\n",
    "        denominator_output = denominator_1*numerator_2\n",
    "        numerator_output = numerator_1*denominator_2\n",
    "        \n",
    "        return '{}/{}'.format(numerator_output, denominator_output)\n",
    "    \n",
    "    def __int__(self):\n",
    "        numerator = self.a\n",
    "        denominator = self.b\n",
    "\n",
    "        return numerator//denominator\n",
    "    \n",
    "    def __float__(self):\n",
    "        numerator = self.a\n",
    "        denominator = self.b\n",
    "        \n",
    "        return numerator/denominator\n",
    "    \n",
    "class OperationsOnFraction(Fraction):\n",
    "    \n",
    "    def getint(self):\n",
    "        return int(self)\n",
    "    \n",
    "    def getfloat(self):\n",
    "        return float(self)"
   ]
  },
  {
   "cell_type": "code",
   "execution_count": 78,
   "metadata": {},
   "outputs": [
    {
     "name": "stdout",
     "output_type": "stream",
     "text": [
      "23/24\n",
      "-35/8\n",
      "25/8\n",
      "15/8\n",
      "9\n",
      "9.625\n"
     ]
    }
   ],
   "source": [
    "x = Fraction(5, 8)\n",
    "y = Fraction(1, 3)\n",
    "z = 5\n",
    "\n",
    "print(x+y)\n",
    "print(x-z)\n",
    "print(x*z)\n",
    "print(x/y)\n",
    "print(int(Fraction(77, 8)))\n",
    "print(float(Fraction(77, 8)))\n",
    "\n"
   ]
  },
  {
   "cell_type": "code",
   "execution_count": 76,
   "metadata": {},
   "outputs": [
    {
     "data": {
      "text/plain": [
       "9"
      ]
     },
     "execution_count": 76,
     "metadata": {},
     "output_type": "execute_result"
    }
   ],
   "source": [
    "OperationsOnFraction.getint(Fraction(77, 8))"
   ]
  },
  {
   "cell_type": "code",
   "execution_count": null,
   "metadata": {},
   "outputs": [],
   "source": []
  },
  {
   "cell_type": "code",
   "execution_count": null,
   "metadata": {},
   "outputs": [],
   "source": []
  }
 ],
 "metadata": {
  "kernelspec": {
   "display_name": "Python 3",
   "language": "python",
   "name": "python3"
  },
  "language_info": {
   "codemirror_mode": {
    "name": "ipython",
    "version": 3
   },
   "file_extension": ".py",
   "mimetype": "text/x-python",
   "name": "python",
   "nbconvert_exporter": "python",
   "pygments_lexer": "ipython3",
   "version": "3.7.4"
  }
 },
 "nbformat": 4,
 "nbformat_minor": 2
}
